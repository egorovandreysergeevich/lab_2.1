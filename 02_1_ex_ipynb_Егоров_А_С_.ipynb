{
  "cells": [
    {
      "cell_type": "markdown",
      "metadata": {
        "id": "UTGMEzZx43qg"
      },
      "source": [
        "# Лабораторная работа 2-1"
      ]
    },
    {
      "cell_type": "markdown",
      "metadata": {
        "collapsed": true,
        "id": "9qN83KZo43qi"
      },
      "source": [
        "## 2.1.1: Множества\n",
        "\n",
        "Напишите функцию, которая находит пересечение двух множеств и печатает их.\n",
        "Инициализируйте два множества, например, значениями {13, 25, 37, 45, 13} и {14, 25, 38, 8, 45} и вызовите  функцию."
      ]
    },
    {
      "cell_type": "code",
      "execution_count": 29,
      "metadata": {
        "colab": {
          "base_uri": "https://localhost:8080/"
        },
        "id": "g9qgdLi_43qj",
        "outputId": "0a697844-1110-491c-9d27-c312d3271a28"
      },
      "outputs": [
        {
          "output_type": "stream",
          "name": "stdout",
          "text": [
            "{25, 45}\n"
          ]
        }
      ],
      "source": [
        "a = {13, 25, 37, 45, 13}\n",
        "b = {14, 25, 38, 8, 45}\n",
        "def fun_2_1_1(a, b):\n",
        "  peresechenie = a & b\n",
        "  print(peresechenie)\n",
        "fun_2_1_1(a, b)"
      ]
    },
    {
      "cell_type": "markdown",
      "metadata": {
        "id": "JI5wnVFx43ql"
      },
      "source": [
        "## 2.1.2: Dictionaries\n",
        "\n",
        "* Создайте словарь с двухбуквенными кодами двух федеральных округов России и полными названиями, например, ЦТ: \tЦентральный, ЮЖ: Южный.\n",
        "* После первоначального создания словаря добавьте в словарь еще два округа.\n",
        "* Создайте второй словарь, который сопоставляет коды федеральных округов России с массивом городов в этом округе, например, ЦТ: [Москва, Тверь, Химки, Мытищи].\n",
        "* Напишите функцию, которая принимает код федеральных округов, печатает полное название округа и выводит список городов в этом округе."
      ]
    },
    {
      "cell_type": "markdown",
      "source": [
        "1. Создание словаря с двухбуквенными кодами двух федеральных округов России и полными названиями, например, ЦТ: Центральный, ЮЖ: Южный."
      ],
      "metadata": {
        "id": "laaF9ky3TEuQ"
      }
    },
    {
      "cell_type": "code",
      "source": [
        "federal_okryga = {'ЦТ': 'Центральный', 'ЮЖ': 'Южный'}\n",
        "print(federal_okryga)"
      ],
      "metadata": {
        "colab": {
          "base_uri": "https://localhost:8080/"
        },
        "id": "4AthQgjlTNyh",
        "outputId": "1231e5d3-4ddb-40c7-8334-45ef934a8890"
      },
      "execution_count": 18,
      "outputs": [
        {
          "output_type": "stream",
          "name": "stdout",
          "text": [
            "{'ЦТ': 'Центральный', 'ЮЖ': 'Южный'}\n"
          ]
        }
      ]
    },
    {
      "cell_type": "markdown",
      "source": [
        "2. Добавление в первоначальный созданный словарь еще два округа."
      ],
      "metadata": {
        "id": "z77v5at4TQVO"
      }
    },
    {
      "cell_type": "code",
      "source": [
        "federal_okryga['ПР'] = 'Приволжский'\n",
        "federal_okryga['ДВ'] = 'Дальневосточный'\n",
        "federal_okryga"
      ],
      "metadata": {
        "colab": {
          "base_uri": "https://localhost:8080/"
        },
        "id": "uhUYfSMGTa__",
        "outputId": "d89afd23-f311-433e-a15a-7044735048f8"
      },
      "execution_count": 19,
      "outputs": [
        {
          "output_type": "execute_result",
          "data": {
            "text/plain": [
              "{'ЦТ': 'Центральный',\n",
              " 'ЮЖ': 'Южный',\n",
              " 'ПР': 'Приволжский',\n",
              " 'ДВ': 'Дальневосточный'}"
            ]
          },
          "metadata": {},
          "execution_count": 19
        }
      ]
    },
    {
      "cell_type": "markdown",
      "source": [
        "3. Создание второго словаря, который сопоставляет коды федеральных округов России с массивом городов в этом округе, например, ЦТ: [Москва, Тверь, Химки, Мытищи]."
      ],
      "metadata": {
        "id": "IB9nl_APThEq"
      }
    },
    {
      "cell_type": "code",
      "source": [
        "city_v_okrigax = {'ЦТ': ['Москва', 'Тверь', 'Химки', 'Мытищи'],\n",
        "                  'ЮЖ': ['Майкоп', 'Евпатория', 'Севастополь', 'Сочи'],\n",
        "                  'ПР': ['Казань', 'Нижний Новгород', 'Свияжск', 'Йошкар-Ола'],\n",
        "                  'ДВ': ['Южно-Сахалинск', 'Владивосток', 'Благовещенск', 'Хабаровск']}\n",
        "print(city_v_okrigax)"
      ],
      "metadata": {
        "colab": {
          "base_uri": "https://localhost:8080/"
        },
        "id": "hkMucMt2Tvyr",
        "outputId": "7330acc6-24fb-4b46-ce0a-67c4fbc0db62"
      },
      "execution_count": 21,
      "outputs": [
        {
          "output_type": "stream",
          "name": "stdout",
          "text": [
            "{'ЦТ': ['Москва', 'Тверь', 'Химки', 'Мытищи'], 'ЮЖ': ['Майкоп', 'Евпатория', 'Севастополь', 'Сочи'], 'ПР': ['Казань', 'Нижний Новгород', 'Свияжск', 'Йошкар-Ола'], 'ДВ': ['Южно-Сахалинск', 'Владивосток', 'Благовещенск', 'Хабаровск']}\n"
          ]
        }
      ]
    },
    {
      "cell_type": "markdown",
      "source": [
        "4. Функция, которая принимает код федеральных округов, печатает полное название округа и выводит список городов в этом округе"
      ],
      "metadata": {
        "id": "AMRLwqdAT2pk"
      }
    },
    {
      "cell_type": "code",
      "source": [
        "def fun_2_1_2(a):\n",
        "  if a in federal_okryga:\n",
        "    print(federal_okryga[a])\n",
        "    print(city_v_okrigax[a])"
      ],
      "metadata": {
        "id": "7EV7-UjST8_p"
      },
      "execution_count": 30,
      "outputs": []
    },
    {
      "cell_type": "markdown",
      "source": [
        "Для Приволжского ФО"
      ],
      "metadata": {
        "id": "FMHjDOGJWNNY"
      }
    },
    {
      "cell_type": "code",
      "source": [
        "fun_2_1_2('ПР')"
      ],
      "metadata": {
        "colab": {
          "base_uri": "https://localhost:8080/"
        },
        "id": "cn4cPEDjWYFO",
        "outputId": "7d64234c-e2e7-4f16-d2a9-8d527d58ed43"
      },
      "execution_count": 24,
      "outputs": [
        {
          "output_type": "stream",
          "name": "stdout",
          "text": [
            "Приволжский\n",
            "['Казань', 'Нижний Новгород', 'Свияжск', 'Йошкар-Ола']\n"
          ]
        }
      ]
    },
    {
      "cell_type": "markdown",
      "source": [
        "Для Центрального ПО"
      ],
      "metadata": {
        "id": "DdRJc42pWQtQ"
      }
    },
    {
      "cell_type": "code",
      "source": [
        "fun_2_1_2('ЦТ')"
      ],
      "metadata": {
        "colab": {
          "base_uri": "https://localhost:8080/"
        },
        "id": "Fl5UtAMuWcz9",
        "outputId": "e92bd6c0-d6fd-4f90-c2ed-26bdfcead683"
      },
      "execution_count": 25,
      "outputs": [
        {
          "output_type": "stream",
          "name": "stdout",
          "text": [
            "Центральный\n",
            "['Москва', 'Тверь', 'Химки', 'Мытищи']\n"
          ]
        }
      ]
    },
    {
      "cell_type": "markdown",
      "source": [
        "Для Дальневосточного ФО"
      ],
      "metadata": {
        "id": "eFxwbrjBWS0i"
      }
    },
    {
      "cell_type": "code",
      "source": [
        "fun_2_1_2('ДВ')"
      ],
      "metadata": {
        "colab": {
          "base_uri": "https://localhost:8080/"
        },
        "id": "4O52Gy_ZWf-q",
        "outputId": "37d9a348-6fb4-437a-f18d-c9479c41a003"
      },
      "execution_count": 26,
      "outputs": [
        {
          "output_type": "stream",
          "name": "stdout",
          "text": [
            "Дальневосточный\n",
            "['Южно-Сахалинск', 'Владивосток', 'Благовещенск', 'Хабаровск']\n"
          ]
        }
      ]
    },
    {
      "cell_type": "markdown",
      "source": [
        "Для Южного ФО"
      ],
      "metadata": {
        "id": "3tzcDTrUWViO"
      }
    },
    {
      "cell_type": "code",
      "source": [
        "fun_2_1_2('ЮЖ')"
      ],
      "metadata": {
        "colab": {
          "base_uri": "https://localhost:8080/"
        },
        "id": "r9-jpDUWWi8Z",
        "outputId": "c2d7732d-c5bb-4ed9-9e0e-09761e0083bd"
      },
      "execution_count": 27,
      "outputs": [
        {
          "output_type": "stream",
          "name": "stdout",
          "text": [
            "Южный\n",
            "['Майкоп', 'Евпатория', 'Севастополь', 'Сочи']\n"
          ]
        }
      ]
    },
    {
      "cell_type": "markdown",
      "metadata": {
        "id": "6kPFyM0c43ql"
      },
      "source": [
        "## 2.1.3: Objects\n",
        "\n",
        "Создайте класс `Pet` с параметрами `name, pronoun, animal,` и `pet_response`.\n",
        "\n",
        "Добавьте метод `pet()`, который печатает ответ, состоящий из элементов, например:\n",
        "\n",
        "` Лейла — кошка. Если ее погладить, Лейла мурчит».`\n",
        "` Скаут — собака. Если его погладить, Скаут виляет хвостом.`"
      ]
    },
    {
      "cell_type": "markdown",
      "source": [
        "1. Создание класса Pet с параметрами name, pronoun, animal, и pet_response"
      ],
      "metadata": {
        "id": "dHqz1zWnUMOF"
      }
    },
    {
      "cell_type": "code",
      "source": [
        "class Pet:\n",
        "  def __init__(self, name, animal, pronoun, pet_response):\n",
        "    self.name = name\n",
        "    self.animal = animal\n",
        "    self.pronoun = pronoun\n",
        "    self.pet_response = pet_response"
      ],
      "metadata": {
        "id": "HHxx7CKnUW8A"
      },
      "execution_count": 33,
      "outputs": []
    },
    {
      "cell_type": "markdown",
      "source": [
        "2. Добавить метод pet(), который печатает ответ, состоящий из элементов например:\n",
        "\n",
        "Лейла — кошка. Если ее погладить, Лейла мурчит». Скаут — собака. Если его погладить, Скаут виляет хвостом."
      ],
      "metadata": {
        "id": "hC02df8EUadM"
      }
    },
    {
      "cell_type": "code",
      "source": [
        "class Pet:\n",
        "  def __init__(self, name, animal, pronoun, pet_response):\n",
        "    self.name = name\n",
        "    self.animal = animal\n",
        "    self.pronoun = pronoun\n",
        "    self.pet_response = pet_response\n",
        "\n",
        "  def pet(self):\n",
        "    print(f'{self.name} — {self.animal}. Если {self.pronoun} погладить, {self.name} {self.pet_response}.')\n",
        "\n",
        "cat = Pet('Лейла', \"кошка\", \"ее\", \"мурчит\")\n",
        "dog = Pet(\"Скаут\", \"собака\", \"его\", \"виляет хвостом\")\n",
        "\n",
        "cat.pet()\n",
        "dog.pet()"
      ],
      "metadata": {
        "colab": {
          "base_uri": "https://localhost:8080/"
        },
        "id": "gXy--RwqUkjo",
        "outputId": "2991af59-69e2-47cf-8824-b644ede0a171"
      },
      "execution_count": 35,
      "outputs": [
        {
          "output_type": "stream",
          "name": "stdout",
          "text": [
            "Лейла — кошка. Если ее погладить, Лейла мурчит.\n",
            "Скаут — собака. Если его погладить, Скаут виляет хвостом.\n"
          ]
        }
      ]
    },
    {
      "cell_type": "markdown",
      "metadata": {
        "collapsed": true,
        "id": "NEEY3WsA43qn"
      },
      "source": [
        "## 2.1.4: Pandas Series"
      ]
    },
    {
      "cell_type": "markdown",
      "metadata": {
        "id": "RIA7Nm2p43qn"
      },
      "source": [
        "Создайте `pandas series`, используя приведенные ниже списки, содержащие названия команд [Российской премьер-лиги](https://ru.wikipedia.org/wiki/%D0%A0%D0%BE%D1%81%D1%81%D0%B8%D0%B9%D1%81%D0%BA%D0%B0%D1%8F_%D0%BF%D1%80%D0%B5%D0%BC%D1%8C%D0%B5%D1%80-%D0%BB%D0%B8%D0%B3%D0%B0) и количество выигранных ими кубка премьер-лиги. Используйте имена как индексы, а победы как данные.\n",
        "\n",
        "  * После создания списка отсортируйте данные в алфавитном порядке по индексу.\n",
        "  * Распечатать обзор статистических свойств ряда. Каково среднее количество побед?\n",
        "  * Отфильтровать все команды, выигравшие менее четырех кубков премьер-лиги.\n",
        "  * В футбольной команде 11 игроков. Обновите данные, чтобы вместо количества чемпионатов,  отражалось количество побед.\n",
        "  * Предположим, что каждая  победа приносила 50 000 долларов США. Обновите данные, чтобы они содержали строку суммы в долларах, включая знак \\$. Например, для `Локомотив` это будет соответствовать:\n",
        "  ```\n",
        "  Тренер Юрий Сёмин  Локомотив $ 600000\n",
        "  ```"
      ]
    },
    {
      "cell_type": "markdown",
      "source": [
        "Исходные данные"
      ],
      "metadata": {
        "id": "_JvLNFCMYr5m"
      }
    },
    {
      "cell_type": "code",
      "execution_count": 2,
      "metadata": {
        "id": "H6V-ZBWW43qn"
      },
      "outputs": [],
      "source": [
        "teams = [\"Юрий Сёмин («Локомотив»)\",\n",
        "         \"Олег Романцев («Спартак»)\",\n",
        "         \"Сергей Семак («Зенит»)\",\n",
        "         \"Валерий Газзаев («Спартак-Алания»)\",\n",
        "         \"Леонид Слуцкий (ЦСКА)\",\n",
        "         \"Курбан Бердыев («Рубин»)\",\n",
        "         \"Лучано Спаллетти («Зенит»)\",\n",
        "         \"Андре Виллаш-Боаш («Зенит»)\",\n",
        "         \"Дик Адвокат («Зенит»)\",\n",
        "         \"Массимо Каррера («Спартак»)\",\n",
        "         \"Зико (ЦСКА)\",\n",
        "         \"Георгий Ярцев («Спартак»)\"]\n",
        "wins = [12,11,10,10,7,5,4,3,2,2,1,1]"
      ]
    },
    {
      "cell_type": "markdown",
      "source": [
        "Импорт библиотеки Pandas"
      ],
      "metadata": {
        "id": "ZuFqm7f2Yun_"
      }
    },
    {
      "cell_type": "code",
      "execution_count": 3,
      "metadata": {
        "id": "KMNKyhSX43qo"
      },
      "outputs": [],
      "source": [
        "import pandas as pd"
      ]
    },
    {
      "cell_type": "markdown",
      "source": [
        "Создание Series"
      ],
      "metadata": {
        "id": "Cij44G3EYzpj"
      }
    },
    {
      "cell_type": "code",
      "source": [
        "football = pd.Series(wins, index=teams)"
      ],
      "metadata": {
        "id": "OM_Kxy-5UJJU"
      },
      "execution_count": 4,
      "outputs": []
    },
    {
      "cell_type": "markdown",
      "source": [
        "1. Отсортированный список, где данные в алфавитном порядке по индексу"
      ],
      "metadata": {
        "id": "yVZV_4SxXnxC"
      }
    },
    {
      "cell_type": "code",
      "execution_count": 5,
      "metadata": {
        "colab": {
          "base_uri": "https://localhost:8080/"
        },
        "id": "OHbzbTDM43qo",
        "outputId": "751a471b-ab6a-4753-d151-b514fd48b2b8"
      },
      "outputs": [
        {
          "output_type": "stream",
          "name": "stdout",
          "text": [
            "Андре Виллаш-Боаш («Зенит»)            3\n",
            "Валерий Газзаев («Спартак-Алания»)    10\n",
            "Георгий Ярцев («Спартак»)              1\n",
            "Дик Адвокат («Зенит»)                  2\n",
            "Зико (ЦСКА)                            1\n",
            "Курбан Бердыев («Рубин»)               5\n",
            "Леонид Слуцкий (ЦСКА)                  7\n",
            "Лучано Спаллетти («Зенит»)             4\n",
            "Массимо Каррера («Спартак»)            2\n",
            "Олег Романцев («Спартак»)             11\n",
            "Сергей Семак («Зенит»)                10\n",
            "Юрий Сёмин («Локомотив»)              12\n",
            "dtype: int64\n"
          ]
        }
      ],
      "source": [
        "sort_football_po_index = football.sort_index()\n",
        "print(sort_football_po_index)"
      ]
    },
    {
      "cell_type": "markdown",
      "source": [
        "2. Распечатанный обзор статистических свойств ряда и указание среднее количество побед"
      ],
      "metadata": {
        "id": "sw7842f_X47A"
      }
    },
    {
      "cell_type": "code",
      "source": [
        "print(football.describe())"
      ],
      "metadata": {
        "colab": {
          "base_uri": "https://localhost:8080/"
        },
        "id": "_ymUINECTz9q",
        "outputId": "ec51e100-6568-4f51-aec1-d831fe761340"
      },
      "execution_count": 6,
      "outputs": [
        {
          "output_type": "stream",
          "name": "stdout",
          "text": [
            "count    12.000000\n",
            "mean      5.666667\n",
            "std       4.141439\n",
            "min       1.000000\n",
            "25%       2.000000\n",
            "50%       4.500000\n",
            "75%      10.000000\n",
            "max      12.000000\n",
            "dtype: float64\n"
          ]
        }
      ]
    },
    {
      "cell_type": "markdown",
      "source": [
        "Среднее количество побед"
      ],
      "metadata": {
        "id": "f8eRmmPzEfzf"
      }
    },
    {
      "cell_type": "code",
      "source": [
        "average_wins = sum(wins) / len(wins)\n",
        "print(f\"Среднее количество побед: {round(average_wins, 2)}\")"
      ],
      "metadata": {
        "colab": {
          "base_uri": "https://localhost:8080/"
        },
        "id": "DQKxFMPUEill",
        "outputId": "44c6bb63-f18c-4c36-a0b6-6c8570ded850"
      },
      "execution_count": 10,
      "outputs": [
        {
          "output_type": "stream",
          "name": "stdout",
          "text": [
            "Среднее количество побед: 5.67\n"
          ]
        }
      ]
    },
    {
      "cell_type": "markdown",
      "source": [
        "3. Отфильтровать все команды, выигравшие менее четырех кубков премьер-лиги."
      ],
      "metadata": {
        "id": "X0j1BIR8YKDv"
      }
    },
    {
      "cell_type": "code",
      "source": [
        "football_menee_4 = football[football < 4]\n",
        "print(football_menee_4)"
      ],
      "metadata": {
        "colab": {
          "base_uri": "https://localhost:8080/"
        },
        "id": "19mu3aRVT3kD",
        "outputId": "8b532ec0-25d8-499f-b6c0-d823fbb98e4a"
      },
      "execution_count": 47,
      "outputs": [
        {
          "output_type": "stream",
          "name": "stdout",
          "text": [
            "Андре Виллаш-Боаш («Зенит»)    3\n",
            "Дик Адвокат («Зенит»)          2\n",
            "Массимо Каррера («Спартак»)    2\n",
            "Зико (ЦСКА)                    1\n",
            "Георгий Ярцев («Спартак»)      1\n",
            "dtype: int64\n"
          ]
        }
      ]
    },
    {
      "cell_type": "markdown",
      "source": [
        "4. В футбольной команде 11 игроков. Обновите данные, чтобы вместо количества чемпионатов, отражалось количество побед."
      ],
      "metadata": {
        "id": "nXme8IYOiCWC"
      }
    },
    {
      "cell_type": "code",
      "source": [
        "football"
      ],
      "metadata": {
        "colab": {
          "base_uri": "https://localhost:8080/"
        },
        "id": "ncGmUCtfjtG9",
        "outputId": "16a656e2-e609-488a-cbdb-ee7ad84ba11a"
      },
      "execution_count": 25,
      "outputs": [
        {
          "output_type": "execute_result",
          "data": {
            "text/plain": [
              "Юрий Сёмин («Локомотив»)              12\n",
              "Олег Романцев («Спартак»)             11\n",
              "Сергей Семак («Зенит»)                10\n",
              "Валерий Газзаев («Спартак-Алания»)    10\n",
              "Леонид Слуцкий (ЦСКА)                  7\n",
              "Курбан Бердыев («Рубин»)               5\n",
              "Лучано Спаллетти («Зенит»)             4\n",
              "Андре Виллаш-Боаш («Зенит»)            3\n",
              "Дик Адвокат («Зенит»)                  2\n",
              "Массимо Каррера («Спартак»)            2\n",
              "Зико (ЦСКА)                            1\n",
              "Георгий Ярцев («Спартак»)              1\n",
              "dtype: int64"
            ]
          },
          "metadata": {},
          "execution_count": 25
        }
      ]
    },
    {
      "cell_type": "markdown",
      "source": [
        "5. Предположим, что каждая победа приносила 50 000 долларов США. Обновите данные, чтобы они содержали строку суммы в долларах, включая знак $"
      ],
      "metadata": {
        "id": "KZqkk7mqYWQc"
      }
    },
    {
      "cell_type": "code",
      "source": [
        "football_dollars = football.apply(lambda a: f'$ {a * 50000}')\n",
        "print(football_dollars)"
      ],
      "metadata": {
        "colab": {
          "base_uri": "https://localhost:8080/"
        },
        "id": "1buxaaVpT-jG",
        "outputId": "5c84486b-410b-4a1a-f98c-05433045d067"
      },
      "execution_count": 48,
      "outputs": [
        {
          "output_type": "stream",
          "name": "stdout",
          "text": [
            "Юрий Сёмин («Локомотив»)              $ 600000\n",
            "Олег Романцев («Спартак»)             $ 550000\n",
            "Сергей Семак («Зенит»)                $ 500000\n",
            "Валерий Газзаев («Спартак-Алания»)    $ 500000\n",
            "Леонид Слуцкий (ЦСКА)                 $ 350000\n",
            "Курбан Бердыев («Рубин»)              $ 250000\n",
            "Лучано Спаллетти («Зенит»)            $ 200000\n",
            "Андре Виллаш-Боаш («Зенит»)           $ 150000\n",
            "Дик Адвокат («Зенит»)                 $ 100000\n",
            "Массимо Каррера («Спартак»)           $ 100000\n",
            "Зико (ЦСКА)                            $ 50000\n",
            "Георгий Ярцев («Спартак»)              $ 50000\n",
            "dtype: object\n"
          ]
        }
      ]
    },
    {
      "cell_type": "code",
      "source": [
        "import requests\n",
        "from bs4 import BeautifulSoup\n",
        "\n",
        "url = 'https://ru.wikipedia.org/wiki/Российская_премьер-лига'\n",
        "response = requests.get(url)\n",
        "soup = BeautifulSoup(response.text, 'html.parser')\n",
        "\n",
        "tables = soup.find_all('table', class_='wikitable')\n",
        "\n",
        "# Выбираем вторую таблицу по индексу\n",
        "second_table = tables[2]\n",
        "rows = second_table.find_all('tr')\n",
        "\n",
        "for row in rows:\n",
        "    cells = row.find_all('td')\n",
        "    if len(cells) > 0:\n",
        "        # Извлекаем данные из ячеек таблицы\n",
        "        cell_data = [cell.text.strip() for cell in cells]\n",
        "        print(cell_data)"
      ],
      "metadata": {
        "colab": {
          "base_uri": "https://localhost:8080/"
        },
        "id": "DZpIP44pg4eY",
        "outputId": "256aefe6-6cb6-4cf1-d217-e6f84eb0fb63"
      },
      "execution_count": 14,
      "outputs": [
        {
          "output_type": "stream",
          "name": "stdout",
          "text": [
            "['1', 'Юрий Сёмин («Локомотив»)', '12', '3', '6', '0', '3']\n",
            "['2', 'Олег Романцев («Спартак»)', '11', '8', '3', '0', '0']\n",
            "['3', 'Сергей Семак («Зенит»)', '10', '5', '1', '0', '4']\n",
            "['4', 'Валерий Газзаев («Спартак-Алания», ЦСКА)', '10', '4', '4', '0', '2']\n",
            "['5', 'Леонид Слуцкий (ЦСКА)', '7', '3', '2', '0', '2']\n",
            "['6', 'Курбан Бердыев («Рубин»)', '5', '2', '1', '0', '2']\n",
            "['7', 'Лучано Спаллетти («Зенит»)', '4', '2', '1', '0', '1']\n",
            "['8', 'Андре Виллаш-Боаш («Зенит»)', '3', '1', '1', '0', '1']\n",
            "['9', 'Дик Адвокат («Зенит»)', '2', '1', '0', '0', '1']\n",
            "['Массимо Каррера («Спартак»)']\n",
            "['11', 'Зико (ЦСКА)', '2', '0', '1', '0', '1']\n",
            "['12', 'Георгий Ярцев («Спартак»)', '1', '1', '0', '0', '0']\n",
            "['13', 'Юрий Миронов («Торпедо»)', '1', '0', '1', '0', '0']\n",
            "['Константин Бесков («Динамо»)']\n",
            "['Анатолий Давыдов («Зенит»)']\n",
            "['Ваит Талгаев («Терек»)']\n",
            "['Анатолий Бышовец («Локомотив»)']\n",
            "['Миодраг Божович («Ростов»)']\n",
            "['Игорь Черевченко («Локомотив»)']\n",
            "['Дмитрий Парфёнов («Тосно»)']\n",
            "['Марко Николич («Локомотив»)']\n",
            "['Паоло Ваноли («Спартак»)']\n",
            "['Владимир Федотов (ЦСКА)']\n",
            "['24', 'Властимил Петржела («Зенит»)', '1', '0', '0', '1', '0']\n",
            "['25', 'Артур Жорже (ЦСКА)', '1', '0', '0', '0', '1']\n",
            "['Мирча Луческу («Зенит»)']\n",
            "['Виктор Гончаренко (ЦСКА)']\n"
          ]
        }
      ]
    }
  ],
  "metadata": {
    "anaconda-cloud": {},
    "kernelspec": {
      "display_name": "Python 3",
      "language": "python",
      "name": "python3"
    },
    "language_info": {
      "codemirror_mode": {
        "name": "ipython",
        "version": 3
      },
      "file_extension": ".py",
      "mimetype": "text/x-python",
      "name": "python",
      "nbconvert_exporter": "python",
      "pygments_lexer": "ipython3",
      "version": "3.9.13"
    },
    "colab": {
      "provenance": []
    }
  },
  "nbformat": 4,
  "nbformat_minor": 0
}